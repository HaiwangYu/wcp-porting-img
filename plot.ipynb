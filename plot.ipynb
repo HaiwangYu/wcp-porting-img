{
 "cells": [
  {
   "cell_type": "code",
   "execution_count": 2,
   "metadata": {},
   "outputs": [],
   "source": [
    "import matplotlib.pyplot as plt\n",
    "import matplotlib as mpl\n",
    "%matplotlib tk\n",
    "import numpy as np\n",
    "from scipy import optimize"
   ]
  },
  {
   "cell_type": "code",
   "execution_count": 12,
   "metadata": {},
   "outputs": [],
   "source": [
    "grid = np.loadtxt(\"gauss_u\")"
   ]
  },
  {
   "cell_type": "code",
   "execution_count": 15,
   "metadata": {},
   "outputs": [
    {
     "name": "stdout",
     "output_type": "stream",
     "text": [
      "(2400, 9592)\n",
      "(9592, 2400)\n"
     ]
    }
   ],
   "source": [
    "print(grid.shape)\n",
    "grid = np.transpose(grid, (1,0))\n",
    "print(grid.shape)\n",
    "clim = [-4000,4000]\n",
    "cmap = \"bwr\"\n",
    "plt.figure()\n",
    "img = plt.imshow(grid, cmap=cmap, interpolation=\"none\"\n",
    ", norm=mpl.colors.SymLogNorm(linthresh = 1.0, vmin = clim[0], vmax = clim[1], base=10)\n",
    ", origin='lower'\n",
    ", aspect='auto'\n",
    ")\n",
    "plt.clim(clim)\n",
    "plt.colorbar(img)\n",
    "plt.show()"
   ]
  },
  {
   "cell_type": "code",
   "execution_count": null,
   "metadata": {},
   "outputs": [],
   "source": []
  }
 ],
 "metadata": {
  "kernelspec": {
   "display_name": "Python 3",
   "language": "python",
   "name": "python3"
  },
  "language_info": {
   "codemirror_mode": {
    "name": "ipython",
    "version": 3
   },
   "file_extension": ".py",
   "mimetype": "text/x-python",
   "name": "python",
   "nbconvert_exporter": "python",
   "pygments_lexer": "ipython3",
   "version": "3.6.10"
  }
 },
 "nbformat": 4,
 "nbformat_minor": 4
}
